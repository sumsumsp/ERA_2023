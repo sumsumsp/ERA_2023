{
 "cells": [
  {
   "cell_type": "code",
   "execution_count": 1,
   "id": "144c3f7c",
   "metadata": {},
   "outputs": [],
   "source": [
    "import torch \n",
    "import torch.nn as nn \n",
    "import torch.nn.functional as F\n",
    "import torch.optim as optim \n",
    "from torchvision import datasets, transforms"
   ]
  },
  {
   "cell_type": "code",
   "execution_count": 2,
   "id": "68be90a2",
   "metadata": {},
   "outputs": [
    {
     "data": {
      "text/plain": [
       "device(type='cuda')"
      ]
     },
     "execution_count": 2,
     "metadata": {},
     "output_type": "execute_result"
    }
   ],
   "source": [
    "cuda =torch.cuda.is_available()\n",
    "device = torch.device(\"cuda\" if cuda else \"cpu\")\n",
    "device"
   ]
  },
  {
   "cell_type": "code",
   "execution_count": 3,
   "id": "5f5d1167",
   "metadata": {},
   "outputs": [],
   "source": [
    "class Net(nn.Module):\n",
    "    def __init__(self): \n",
    "        super(Net, self).__init__()\n",
    "        \n",
    "        self.conv1= nn.Sequential(\n",
    "             nn.Conv2d (1, 6 ,3),\n",
    "             nn.ReLU(),\n",
    "             nn.BatchNorm2d(6),\n",
    "             nn.Dropout2d(0.1),\n",
    "             \n",
    "             nn.Conv2d (6, 12 ,3),\n",
    "             nn.ReLU(),\n",
    "             nn.BatchNorm2d(12),\n",
    "             nn.Dropout2d(0.1),\n",
    "             \n",
    "             nn.Conv2d (12, 24 ,3),\n",
    "             nn.ReLU(),\n",
    "             nn.BatchNorm2d(24),\n",
    "             nn.Dropout2d(0.1)\n",
    "        \n",
    "        )\n",
    "        \n",
    "        self.trans1 = nn.Sequential(\n",
    "             nn.Conv2d (24,12,1),\n",
    "             nn.ReLU(),\n",
    "             nn.BatchNorm2d(12),\n",
    "             nn.AvgPool2d(2,2),\n",
    "\n",
    "        )\n",
    "        \n",
    "        self.conv2= nn.Sequential(\n",
    "             nn.Conv2d (12, 16 ,3),\n",
    "             nn.ReLU(),\n",
    "             nn.BatchNorm2d(16),\n",
    "             nn.Dropout2d(0.1),\n",
    "             \n",
    "             nn.Conv2d (16, 32 ,3),\n",
    "             nn.ReLU(),\n",
    "             nn.BatchNorm2d(32),\n",
    "             nn.Dropout2d(0.1)\n",
    "        \n",
    "        )\n",
    "            \n",
    "        self.trans2 = nn.Sequential(\n",
    "             nn.Conv2d (32,16,1),\n",
    "             nn.ReLU(),\n",
    "             nn.BatchNorm2d(16),\n",
    "             nn.AvgPool2d(2,2))    \n",
    "        \n",
    "        self.fc = nn.Linear(144,10)\n",
    "        \n",
    "    def forward(self,x):\n",
    "        x= self.conv1(x)\n",
    "        x= self.trans1(x)\n",
    "        x= self.conv2(x)\n",
    "        x= self.trans2(x)\n",
    "        x= x.view(x.size(0), -1)\n",
    "        x= self.fc(x)\n",
    "        return F.log_softmax(x, dim=1)"
   ]
  },
  {
   "cell_type": "code",
   "execution_count": 4,
   "id": "2c3047d7",
   "metadata": {},
   "outputs": [
    {
     "name": "stdout",
     "output_type": "stream",
     "text": [
      "----------------------------------------------------------------\n",
      "        Layer (type)               Output Shape         Param #\n",
      "================================================================\n",
      "            Conv2d-1            [-1, 6, 26, 26]              60\n",
      "              ReLU-2            [-1, 6, 26, 26]               0\n",
      "       BatchNorm2d-3            [-1, 6, 26, 26]              12\n",
      "         Dropout2d-4            [-1, 6, 26, 26]               0\n",
      "            Conv2d-5           [-1, 12, 24, 24]             660\n",
      "              ReLU-6           [-1, 12, 24, 24]               0\n",
      "       BatchNorm2d-7           [-1, 12, 24, 24]              24\n",
      "         Dropout2d-8           [-1, 12, 24, 24]               0\n",
      "            Conv2d-9           [-1, 24, 22, 22]           2,616\n",
      "             ReLU-10           [-1, 24, 22, 22]               0\n",
      "      BatchNorm2d-11           [-1, 24, 22, 22]              48\n",
      "        Dropout2d-12           [-1, 24, 22, 22]               0\n",
      "           Conv2d-13           [-1, 12, 22, 22]             300\n",
      "             ReLU-14           [-1, 12, 22, 22]               0\n",
      "      BatchNorm2d-15           [-1, 12, 22, 22]              24\n",
      "        AvgPool2d-16           [-1, 12, 11, 11]               0\n",
      "           Conv2d-17             [-1, 16, 9, 9]           1,744\n",
      "             ReLU-18             [-1, 16, 9, 9]               0\n",
      "      BatchNorm2d-19             [-1, 16, 9, 9]              32\n",
      "        Dropout2d-20             [-1, 16, 9, 9]               0\n",
      "           Conv2d-21             [-1, 32, 7, 7]           4,640\n",
      "             ReLU-22             [-1, 32, 7, 7]               0\n",
      "      BatchNorm2d-23             [-1, 32, 7, 7]              64\n",
      "        Dropout2d-24             [-1, 32, 7, 7]               0\n",
      "           Conv2d-25             [-1, 16, 7, 7]             528\n",
      "             ReLU-26             [-1, 16, 7, 7]               0\n",
      "      BatchNorm2d-27             [-1, 16, 7, 7]              32\n",
      "        AvgPool2d-28             [-1, 16, 3, 3]               0\n",
      "           Linear-29                   [-1, 10]           1,450\n",
      "================================================================\n",
      "Total params: 12,234\n",
      "Trainable params: 12,234\n",
      "Non-trainable params: 0\n",
      "----------------------------------------------------------------\n",
      "Input size (MB): 0.00\n",
      "Forward/backward pass size (MB): 0.94\n",
      "Params size (MB): 0.05\n",
      "Estimated Total Size (MB): 0.99\n",
      "----------------------------------------------------------------\n"
     ]
    }
   ],
   "source": [
    "from torchsummary import summary \n",
    "use_cuda= torch.cuda.is_available()\n",
    "device = torch.device(\"cuda\" if use_cuda else \"cpu\")\n",
    "model = Net().to(device)\n",
    "summary(model, input_size= (1,28,28))"
   ]
  },
  {
   "cell_type": "code",
   "execution_count": 5,
   "id": "d27a302a",
   "metadata": {},
   "outputs": [],
   "source": [
    "torch.manual_seed(1)\n",
    "batch_size =64\n",
    "\n",
    "kwargs = {'num_workers': 12, 'pin_memory': True} if use_cuda else {}\n",
    "\n",
    "train_loader = torch.utils.data.DataLoader(\n",
    "    datasets.MNIST('../data', train=True, download=True,\n",
    "                    transform=transforms.Compose([\n",
    "                        transforms.ToTensor(),\n",
    "                        transforms.Normalize((0.1307,), (0.3081,))\n",
    "                    ])),\n",
    "    batch_size=batch_size, shuffle=True, **kwargs)\n",
    "test_loader = torch.utils.data.DataLoader(\n",
    "    datasets.MNIST('../data', train=False, transform=transforms.Compose([\n",
    "                        transforms.ToTensor(),\n",
    "                        transforms.Normalize((0.1307,), (0.3081,))\n",
    "                    ])),\n",
    "    batch_size=batch_size, shuffle=True, **kwargs)"
   ]
  },
  {
   "cell_type": "code",
   "execution_count": 6,
   "id": "d4391819",
   "metadata": {},
   "outputs": [],
   "source": [
    "def GetCorrectPredCount(pPrediction, pLabels):\n",
    "    return pPrediction.argmax(dim=1).eq(pLabels).sum().item()"
   ]
  },
  {
   "cell_type": "code",
   "execution_count": 7,
   "id": "ebe8553c",
   "metadata": {},
   "outputs": [],
   "source": [
    "train_losses = []\n",
    "test_losses = []\n",
    "train_acc = []\n",
    "test_acc = []"
   ]
  },
  {
   "cell_type": "code",
   "execution_count": 8,
   "id": "71f71eca",
   "metadata": {},
   "outputs": [],
   "source": [
    "from tqdm import tqdm\n",
    "def train(model, device, train_loader, optimizer, epoch):\n",
    "    model.train()\n",
    "    pbar = tqdm(train_loader)\n",
    "    train_loss = 0\n",
    "    correct = 0\n",
    "    processed = 0\n",
    "    \n",
    "    for batch_idx, (data, target) in enumerate(pbar):\n",
    "        data, target = data.to(device), target.to(device)\n",
    "        optimizer.zero_grad()\n",
    "        \n",
    "        output = model(data)\n",
    "        loss = F.nll_loss(output, target)\n",
    "        train_loss+=loss.item()\n",
    "        \n",
    "        loss.backward()\n",
    "        optimizer.step()\n",
    "        correct += GetCorrectPredCount(output, target)\n",
    "        processed += len(data)\n",
    "        pbar.set_description(desc= f'loss={loss.item()} batch_id={batch_idx}')\n",
    "    train_acc.append(100*correct/processed)\n",
    "    train_losses.append(train_loss/len(train_loader))\n",
    "\n",
    "def test(model, device, test_loader):\n",
    "    model.eval()\n",
    "    test_loss = 0\n",
    "    correct = 0\n",
    "    with torch.no_grad():\n",
    "        for data, target in test_loader:\n",
    "            data, target = data.to(device), target.to(device)\n",
    "            output = model(data)\n",
    "            test_loss += F.nll_loss(output, target, reduction='sum').item()  # sum up batch loss\n",
    "            pred = output.argmax(dim=1, keepdim=True)  # get the index of the max log-probability\n",
    "            correct += pred.eq(target.view_as(pred)).sum().item()\n",
    "\n",
    "    test_loss /= len(test_loader.dataset)\n",
    "    test_acc.append(100. * correct / len(test_loader.dataset))\n",
    "    test_losses.append(test_loss)\n",
    "\n",
    "\n",
    "    print('\\nTest set: Average loss: {:.4f}, Accuracy: {}/{} ({:.2f}%)\\n'.format(\n",
    "        test_loss, correct, len(test_loader.dataset),\n",
    "        100. * correct / len(test_loader.dataset)))"
   ]
  },
  {
   "cell_type": "code",
   "execution_count": 9,
   "id": "cd2738db",
   "metadata": {},
   "outputs": [
    {
     "name": "stderr",
     "output_type": "stream",
     "text": [
      "\r",
      "  0%|                                                                                          | 0/938 [00:00<?, ?it/s]"
     ]
    },
    {
     "name": "stdout",
     "output_type": "stream",
     "text": [
      "Epoch 1\n"
     ]
    },
    {
     "name": "stderr",
     "output_type": "stream",
     "text": [
      "loss=0.12936240434646606 batch_id=937: 100%|█████████████████████████████████████████| 938/938 [00:14<00:00, 62.65it/s]\n",
      "  0%|                                                                                          | 0/938 [00:00<?, ?it/s]"
     ]
    },
    {
     "name": "stdout",
     "output_type": "stream",
     "text": [
      "\n",
      "Test set: Average loss: 0.0525, Accuracy: 9818/10000 (98.18%)\n",
      "\n",
      "Epoch 2\n"
     ]
    },
    {
     "name": "stderr",
     "output_type": "stream",
     "text": [
      "loss=0.09565366804599762 batch_id=937: 100%|█████████████████████████████████████████| 938/938 [00:14<00:00, 64.46it/s]\n",
      "  0%|                                                                                          | 0/938 [00:00<?, ?it/s]"
     ]
    },
    {
     "name": "stdout",
     "output_type": "stream",
     "text": [
      "\n",
      "Test set: Average loss: 0.0348, Accuracy: 9891/10000 (98.91%)\n",
      "\n",
      "Epoch 3\n"
     ]
    },
    {
     "name": "stderr",
     "output_type": "stream",
     "text": [
      "loss=0.007405010052025318 batch_id=937: 100%|████████████████████████████████████████| 938/938 [00:14<00:00, 63.51it/s]\n",
      "  0%|                                                                                          | 0/938 [00:00<?, ?it/s]"
     ]
    },
    {
     "name": "stdout",
     "output_type": "stream",
     "text": [
      "\n",
      "Test set: Average loss: 0.0312, Accuracy: 9898/10000 (98.98%)\n",
      "\n",
      "Epoch 4\n"
     ]
    },
    {
     "name": "stderr",
     "output_type": "stream",
     "text": [
      "loss=0.12059636414051056 batch_id=937: 100%|█████████████████████████████████████████| 938/938 [00:14<00:00, 62.70it/s]\n",
      "  0%|                                                                                          | 0/938 [00:00<?, ?it/s]"
     ]
    },
    {
     "name": "stdout",
     "output_type": "stream",
     "text": [
      "\n",
      "Test set: Average loss: 0.0268, Accuracy: 9908/10000 (99.08%)\n",
      "\n",
      "Epoch 5\n"
     ]
    },
    {
     "name": "stderr",
     "output_type": "stream",
     "text": [
      "loss=0.024173907935619354 batch_id=937: 100%|████████████████████████████████████████| 938/938 [00:14<00:00, 62.95it/s]\n",
      "  0%|                                                                                          | 0/938 [00:00<?, ?it/s]"
     ]
    },
    {
     "name": "stdout",
     "output_type": "stream",
     "text": [
      "\n",
      "Test set: Average loss: 0.0289, Accuracy: 9898/10000 (98.98%)\n",
      "\n",
      "Epoch 6\n"
     ]
    },
    {
     "name": "stderr",
     "output_type": "stream",
     "text": [
      "loss=0.00971416849642992 batch_id=937: 100%|█████████████████████████████████████████| 938/938 [00:14<00:00, 64.25it/s]\n",
      "  0%|                                                                                          | 0/938 [00:00<?, ?it/s]"
     ]
    },
    {
     "name": "stdout",
     "output_type": "stream",
     "text": [
      "\n",
      "Test set: Average loss: 0.0233, Accuracy: 9934/10000 (99.34%)\n",
      "\n",
      "Epoch 7\n"
     ]
    },
    {
     "name": "stderr",
     "output_type": "stream",
     "text": [
      "loss=0.0025206159334629774 batch_id=937: 100%|███████████████████████████████████████| 938/938 [00:14<00:00, 63.82it/s]\n",
      "  0%|                                                                                          | 0/938 [00:00<?, ?it/s]"
     ]
    },
    {
     "name": "stdout",
     "output_type": "stream",
     "text": [
      "\n",
      "Test set: Average loss: 0.0221, Accuracy: 9933/10000 (99.33%)\n",
      "\n",
      "Epoch 8\n"
     ]
    },
    {
     "name": "stderr",
     "output_type": "stream",
     "text": [
      "loss=0.01180807314813137 batch_id=937: 100%|█████████████████████████████████████████| 938/938 [00:14<00:00, 66.32it/s]\n",
      "  0%|                                                                                          | 0/938 [00:00<?, ?it/s]"
     ]
    },
    {
     "name": "stdout",
     "output_type": "stream",
     "text": [
      "\n",
      "Test set: Average loss: 0.0209, Accuracy: 9936/10000 (99.36%)\n",
      "\n",
      "Epoch 9\n"
     ]
    },
    {
     "name": "stderr",
     "output_type": "stream",
     "text": [
      "loss=0.3037427067756653 batch_id=937: 100%|██████████████████████████████████████████| 938/938 [00:15<00:00, 61.75it/s]\n",
      "  0%|                                                                                          | 0/938 [00:00<?, ?it/s]"
     ]
    },
    {
     "name": "stdout",
     "output_type": "stream",
     "text": [
      "\n",
      "Test set: Average loss: 0.0231, Accuracy: 9928/10000 (99.28%)\n",
      "\n",
      "Epoch 10\n"
     ]
    },
    {
     "name": "stderr",
     "output_type": "stream",
     "text": [
      "loss=0.0033745900727808475 batch_id=937: 100%|███████████████████████████████████████| 938/938 [00:14<00:00, 63.74it/s]\n",
      "  0%|                                                                                          | 0/938 [00:00<?, ?it/s]"
     ]
    },
    {
     "name": "stdout",
     "output_type": "stream",
     "text": [
      "\n",
      "Test set: Average loss: 0.0202, Accuracy: 9935/10000 (99.35%)\n",
      "\n",
      "Epoch 11\n"
     ]
    },
    {
     "name": "stderr",
     "output_type": "stream",
     "text": [
      "loss=0.057400159537792206 batch_id=937: 100%|████████████████████████████████████████| 938/938 [00:14<00:00, 64.53it/s]\n",
      "  0%|                                                                                          | 0/938 [00:00<?, ?it/s]"
     ]
    },
    {
     "name": "stdout",
     "output_type": "stream",
     "text": [
      "\n",
      "Test set: Average loss: 0.0211, Accuracy: 9937/10000 (99.37%)\n",
      "\n",
      "Epoch 12\n"
     ]
    },
    {
     "name": "stderr",
     "output_type": "stream",
     "text": [
      "loss=0.20171700417995453 batch_id=937: 100%|█████████████████████████████████████████| 938/938 [00:14<00:00, 63.47it/s]\n",
      "  0%|                                                                                          | 0/938 [00:00<?, ?it/s]"
     ]
    },
    {
     "name": "stdout",
     "output_type": "stream",
     "text": [
      "\n",
      "Test set: Average loss: 0.0214, Accuracy: 9934/10000 (99.34%)\n",
      "\n",
      "Epoch 13\n"
     ]
    },
    {
     "name": "stderr",
     "output_type": "stream",
     "text": [
      "loss=0.15517957508563995 batch_id=937: 100%|█████████████████████████████████████████| 938/938 [00:14<00:00, 63.94it/s]\n",
      "  0%|                                                                                          | 0/938 [00:00<?, ?it/s]"
     ]
    },
    {
     "name": "stdout",
     "output_type": "stream",
     "text": [
      "\n",
      "Test set: Average loss: 0.0215, Accuracy: 9935/10000 (99.35%)\n",
      "\n",
      "Epoch 14\n"
     ]
    },
    {
     "name": "stderr",
     "output_type": "stream",
     "text": [
      "loss=0.014951188117265701 batch_id=937: 100%|████████████████████████████████████████| 938/938 [00:14<00:00, 65.03it/s]\n",
      "  0%|                                                                                          | 0/938 [00:00<?, ?it/s]"
     ]
    },
    {
     "name": "stdout",
     "output_type": "stream",
     "text": [
      "\n",
      "Test set: Average loss: 0.0210, Accuracy: 9935/10000 (99.35%)\n",
      "\n",
      "Epoch 15\n"
     ]
    },
    {
     "name": "stderr",
     "output_type": "stream",
     "text": [
      "loss=0.007716956548392773 batch_id=937: 100%|████████████████████████████████████████| 938/938 [00:14<00:00, 63.39it/s]\n",
      "  0%|                                                                                          | 0/938 [00:00<?, ?it/s]"
     ]
    },
    {
     "name": "stdout",
     "output_type": "stream",
     "text": [
      "\n",
      "Test set: Average loss: 0.0206, Accuracy: 9943/10000 (99.43%)\n",
      "\n",
      "Epoch 16\n"
     ]
    },
    {
     "name": "stderr",
     "output_type": "stream",
     "text": [
      "loss=0.01502101868391037 batch_id=937: 100%|█████████████████████████████████████████| 938/938 [00:14<00:00, 63.46it/s]\n",
      "  0%|                                                                                          | 0/938 [00:00<?, ?it/s]"
     ]
    },
    {
     "name": "stdout",
     "output_type": "stream",
     "text": [
      "\n",
      "Test set: Average loss: 0.0202, Accuracy: 9940/10000 (99.40%)\n",
      "\n",
      "Epoch 17\n"
     ]
    },
    {
     "name": "stderr",
     "output_type": "stream",
     "text": [
      "loss=0.01797321066260338 batch_id=937: 100%|█████████████████████████████████████████| 938/938 [00:15<00:00, 61.46it/s]\n",
      "  0%|                                                                                          | 0/938 [00:00<?, ?it/s]"
     ]
    },
    {
     "name": "stdout",
     "output_type": "stream",
     "text": [
      "\n",
      "Test set: Average loss: 0.0215, Accuracy: 9932/10000 (99.32%)\n",
      "\n",
      "Epoch 18\n"
     ]
    },
    {
     "name": "stderr",
     "output_type": "stream",
     "text": [
      "loss=0.00152197212446481 batch_id=937: 100%|█████████████████████████████████████████| 938/938 [00:14<00:00, 64.28it/s]\n",
      "  0%|                                                                                          | 0/938 [00:00<?, ?it/s]"
     ]
    },
    {
     "name": "stdout",
     "output_type": "stream",
     "text": [
      "\n",
      "Test set: Average loss: 0.0197, Accuracy: 9946/10000 (99.46%)\n",
      "\n",
      "Epoch 19\n"
     ]
    },
    {
     "name": "stderr",
     "output_type": "stream",
     "text": [
      "loss=0.12737925350666046 batch_id=937: 100%|█████████████████████████████████████████| 938/938 [00:14<00:00, 63.20it/s]\n"
     ]
    },
    {
     "name": "stdout",
     "output_type": "stream",
     "text": [
      "\n",
      "Test set: Average loss: 0.0204, Accuracy: 9941/10000 (99.41%)\n",
      "\n"
     ]
    }
   ],
   "source": [
    "model = Net().to(device)\n",
    "optimizer = optim.SGD(model.parameters(), lr=0.01, momentum=0.9)\n",
    "\n",
    "for epoch in range(1, 20):\n",
    "    print(f'Epoch {epoch}')\n",
    "    train(model, device, train_loader, optimizer, epoch)\n",
    "    test(model, device, test_loader)"
   ]
  },
  {
   "cell_type": "code",
   "execution_count": 10,
   "id": "7f2eeec2",
   "metadata": {},
   "outputs": [
    {
     "data": {
      "text/plain": [
       "Text(0.5, 1.0, 'Test Accuracy')"
      ]
     },
     "execution_count": 10,
     "metadata": {},
     "output_type": "execute_result"
    },
    {
     "data": {
      "image/png": "[encoded data removed]",
      "text/plain": [
       "<Figure size 1080x720 with 4 Axes>"
      ]
     },
     "metadata": {
      "needs_background": "light"
     },
     "output_type": "display_data"
    }
   ],
   "source": [
    "import matplotlib.pyplot as plt\n",
    "fig, axs = plt.subplots(2,2,figsize=(15,10))\n",
    "axs[0, 0].plot(train_losses)\n",
    "axs[0, 0].set_title(\"Training Loss\")\n",
    "axs[1, 0].plot(train_acc)\n",
    "axs[1, 0].set_title(\"Training Accuracy\")\n",
    "axs[0, 1].plot(test_losses)\n",
    "axs[0, 1].set_title(\"Test Loss\")\n",
    "axs[1, 1].plot(test_acc)\n",
    "axs[1, 1].set_title(\"Test Accuracy\")"
   ]
  },
  {
   "cell_type": "code",
   "execution_count": null,
   "id": "dbe9b95f",
   "metadata": {},
   "outputs": [],
   "source": []
  }
 ],
 "metadata": {
  "kernelspec": {
   "display_name": "Python 3",
   "language": "python",
   "name": "python3"
  },
  "language_info": {
   "codemirror_mode": {
    "name": "ipython",
    "version": 3
   },
   "file_extension": ".py",
   "mimetype": "text/x-python",
   "name": "python",
   "nbconvert_exporter": "python",
   "pygments_lexer": "ipython3",
   "version": "3.8.8"
  }
 },
 "nbformat": 4,
 "nbformat_minor": 5
}
